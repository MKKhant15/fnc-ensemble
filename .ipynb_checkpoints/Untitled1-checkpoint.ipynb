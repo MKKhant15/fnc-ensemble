{
 "cells": [
  {
   "cell_type": "code",
   "execution_count": 1,
   "metadata": {
    "collapsed": false
   },
   "outputs": [
    {
     "name": "stderr",
     "output_type": "stream",
     "text": [
      "Using TensorFlow backend.\n"
     ]
    }
   ],
   "source": [
    "import csv\n",
    "import sys\n",
    "import numpy as np\n",
    "from scipy import spatial\n",
    "\n",
    "from sklearn.ensemble import GradientBoostingClassifier\n",
    "from sklearn.feature_extraction.text import TfidfVectorizer\n",
    "from tqdm import tqdm\n",
    "\n",
    "from ensemble.GiorgosMyrianthous import GiorgosMyrianthous\n",
    "from ensemble.JiashuPu import JiashuPu\n",
    "from ensemble.FNCBaseLine import FNCBaseLine\n",
    "from ensemble.Master import Master\n",
    "from ensemble.MingjieChen import MingjieChen\n",
    "from ensemble.XiaoxuanWang import XiaoxuanWang\n",
    "from feature_engineering import refuting_features, polarity_features, hand_features, gen_or_load_feats\n",
    "from feature_engineering import word_overlap_features\n",
    "from upperbound import compute_ub\n",
    "from utils.dataset import DataSet\n",
    "from utils.generate_test_splits import kfold_split, get_stances_for_folds\n",
    "from utils.score import report_score, LABELS, score_submission\n",
    "import pickle"
   ]
  },
  {
   "cell_type": "code",
   "execution_count": 2,
   "metadata": {
    "collapsed": false
   },
   "outputs": [
    {
     "name": "stdout",
     "output_type": "stream",
     "text": [
      "Reading dataset\n",
      "Total stances: 49972\n",
      "Total bodies: 1683\n",
      "Reading dataset\n",
      "Total stances: 25413\n",
      "Total bodies: 904\n"
     ]
    }
   ],
   "source": [
    "d = DataSet()\n",
    "\n",
    "folds,hold_out = kfold_split(d,n_folds=2)\n",
    "fold_stances, hold_out_stances = get_stances_for_folds(d,folds,hold_out)\n",
    "\n",
    "test_dataset = DataSet(\"test\")\n",
    "d.articles.update(test_dataset.articles)\n",
    "\n",
    "for stance in test_dataset.stances:\n",
    "    stance['Stance ID'] += len(d.stances)\n",
    "\n",
    "\n",
    "test_stances = test_dataset.stances\n",
    "d.stances.extend(test_stances)"
   ]
  },
  {
   "cell_type": "code",
   "execution_count": 3,
   "metadata": {
    "collapsed": true
   },
   "outputs": [],
   "source": [
    "master_classifier = None\n"
   ]
  },
  {
   "cell_type": "code",
   "execution_count": 5,
   "metadata": {
    "collapsed": false
   },
   "outputs": [],
   "source": [
    "ids = list(range(len(folds)))\n",
    "all_folds = np.hstack(tuple([fold_stances[i] for i in ids]))\n",
    "\n",
    "train = dict()\n",
    "test = dict()\n",
    "    \n",
    "for fold in fold_stances:\n",
    "    ids = list(range(len(folds)))\n",
    "    del ids[fold]\n",
    "\n",
    "    train[fold] = np.hstack(tuple([fold_stances[i] for i in ids]))\n",
    "    test[fold] = fold_stances[fold]\n",
    "\n",
    "#\n",
    "slave_classifiers = [FNCBaseLine,XiaoxuanWang,JiashuPu,GiorgosMyrianthous,MingjieChen]\n",
    "\n",
    "slv_predicted = dict()\n",
    "master_train = dict()"
   ]
  },
  {
   "cell_type": "code",
   "execution_count": null,
   "metadata": {
    "collapsed": false,
    "scrolled": true
   },
   "outputs": [
    {
     "name": "stderr",
     "output_type": "stream",
     "text": [
      "\r",
      "  0%|          | 0/5 [00:00<?, ?it/s]"
     ]
    },
    {
     "name": "stdout",
     "output_type": "stream",
     "text": [
      "Create classifier<class 'ensemble.FNCBaseLine.FNCBaseLine'>\n",
      "Preload training data<class 'ensemble.FNCBaseLine.FNCBaseLine'>\n",
      "Train on fold 1 - <class 'ensemble.FNCBaseLine.FNCBaseLine'>\n",
      "      Iter       Train Loss   Remaining Time \n",
      "         1       19872.6571           27.68s\n",
      "         2       17742.5424           28.81s\n",
      "         3       16029.8706           27.56s\n",
      "         4       14623.0273           27.61s\n",
      "         5       13463.0553           26.68s\n",
      "         6       12494.7521           26.63s\n",
      "         7       11674.7715           26.17s\n",
      "         8       10991.8624           26.16s\n",
      "         9       10409.9693           25.68s\n",
      "        10        9921.8957           25.48s\n",
      "        20        7580.3190           26.01s\n",
      "        30        6888.9611           25.06s\n",
      "        40        6570.4626           23.07s\n",
      "        50        6393.0022           21.02s\n",
      "        60        6265.2808           19.52s\n",
      "        70        6162.0599           17.93s\n",
      "        80        6061.4682           16.43s\n",
      "        90        5979.5034           14.92s\n",
      "       100        5907.2758           13.48s\n",
      "       200        5403.7993            0.00s\n"
     ]
    },
    {
     "name": "stderr",
     "output_type": "stream",
     "text": [
      "\r",
      " 20%|██        | 1/5 [00:27<01:49, 27.32s/it]"
     ]
    },
    {
     "name": "stdout",
     "output_type": "stream",
     "text": [
      "Create classifier<class 'ensemble.XiaoxuanWang.XiaoxuanWang'>\n",
      "Preload training data<class 'ensemble.XiaoxuanWang.XiaoxuanWang'>\n",
      "Train on fold 1 - <class 'ensemble.XiaoxuanWang.XiaoxuanWang'>\n"
     ]
    }
   ],
   "source": [
    "fold = 1\n",
    "slv_predicted[fold] = []\n",
    "master_train[fold] = []\n",
    "for slv in tqdm(slave_classifiers):\n",
    "    print(\"Create classifier\" + str(slv))\n",
    "    cls = slv(d,all_folds)\n",
    "\n",
    "    print(\"Preload training data\" + str(type(cls)))\n",
    "    cls.preload_features(d.stances)\n",
    "\n",
    "    print(\"Train on fold \" + str(fold) + \" - \" + str(type(cls)))\n",
    "    cls.train(train[fold])\n",
    "\n",
    "    slv_predicted[fold].append([LABELS.index(p) for p in cls.predict(test[fold])])\n",
    "    del cls\n",
    "\n",
    "master_train[fold].extend(zip(test[fold], *slv_predicted[fold]))"
   ]
  },
  {
   "cell_type": "code",
   "execution_count": 7,
   "metadata": {
    "collapsed": false
   },
   "outputs": [
    {
     "name": "stderr",
     "output_type": "stream",
     "text": [
      "\r",
      "  0%|          | 0/5 [00:00<?, ?it/s]"
     ]
    },
    {
     "name": "stdout",
     "output_type": "stream",
     "text": [
      "Training classifier<class 'type'>\n",
      "      Iter       Train Loss   Remaining Time \n",
      "         1       39332.1113            1.04m\n",
      "         2       35206.0548            1.03m\n",
      "         3       31873.0683            1.01m\n",
      "         4       29144.4553            1.00m\n",
      "         5       26891.9285           59.35s\n",
      "         6       25015.7366           58.86s\n",
      "         7       23429.3842           58.55s\n",
      "         8       22110.6335           58.37s\n",
      "         9       20996.5240           58.12s\n",
      "        10       20043.8812           59.59s\n",
      "        20       15575.8171           54.57s\n",
      "        30       14241.4870           50.17s\n",
      "        40       13710.3719           46.38s\n",
      "        50       13404.0874           42.90s\n",
      "        60       13196.2747           39.60s\n",
      "        70       13040.1711           36.57s\n",
      "        80       12912.6287           33.58s\n",
      "        90       12808.8300           30.62s\n",
      "       100       12711.9986           27.73s\n"
     ]
    },
    {
     "name": "stderr",
     "output_type": "stream",
     "text": [
      "\r",
      " 20%|██        | 1/5 [00:59<03:56, 59.05s/it]"
     ]
    },
    {
     "name": "stdout",
     "output_type": "stream",
     "text": [
      "       200       12004.0626            0.00s\n",
      "Training classifier<class 'type'>\n"
     ]
    },
    {
     "name": "stderr",
     "output_type": "stream",
     "text": [
      "\r",
      " 40%|████      | 2/5 [04:03<04:50, 96.80s/it]"
     ]
    },
    {
     "name": "stdout",
     "output_type": "stream",
     "text": [
      "Training classifier<class 'type'>\n"
     ]
    },
    {
     "name": "stderr",
     "output_type": "stream",
     "text": [
      "\r",
      " 60%|██████    | 3/5 [11:34<06:45, 202.82s/it]"
     ]
    },
    {
     "name": "stdout",
     "output_type": "stream",
     "text": [
      "Training classifier<class 'type'>\n"
     ]
    },
    {
     "name": "stderr",
     "output_type": "stream",
     "text": [
      "\r",
      " 80%|████████  | 4/5 [13:06<02:49, 169.57s/it]"
     ]
    },
    {
     "name": "stdout",
     "output_type": "stream",
     "text": [
      "Training classifier<class 'type'>\n",
      "207\n",
      "Embeddings: 208 x 300\n",
      "Epoch 1/100\n",
      "14s - loss: 0.8052 - acc: 0.7337\n",
      "Epoch 2/100\n",
      "3s - loss: 0.7922 - acc: 0.7347\n",
      "Epoch 3/100\n",
      "3s - loss: 0.7908 - acc: 0.7347\n",
      "Epoch 4/100\n",
      "3s - loss: 0.7893 - acc: 0.7347\n",
      "Epoch 5/100\n",
      "3s - loss: 0.7868 - acc: 0.7347\n",
      "Epoch 6/100\n",
      "3s - loss: 0.7848 - acc: 0.7347\n",
      "Epoch 7/100\n",
      "3s - loss: 0.7820 - acc: 0.7347\n",
      "Epoch 8/100\n",
      "3s - loss: 0.7810 - acc: 0.7347\n",
      "Epoch 9/100\n",
      "3s - loss: 0.7788 - acc: 0.7347\n",
      "Epoch 10/100\n",
      "3s - loss: 0.7781 - acc: 0.7347\n",
      "Epoch 11/100\n",
      "3s - loss: 0.7770 - acc: 0.7347\n",
      "Epoch 12/100\n",
      "3s - loss: 0.7759 - acc: 0.7347\n",
      "Epoch 13/100\n",
      "3s - loss: 0.7752 - acc: 0.7347\n",
      "Epoch 14/100\n",
      "3s - loss: 0.7738 - acc: 0.7347\n",
      "Epoch 15/100\n",
      "4s - loss: 0.7734 - acc: 0.7347\n",
      "Epoch 16/100\n",
      "3s - loss: 0.7736 - acc: 0.7347\n",
      "Epoch 17/100\n",
      "3s - loss: 0.7724 - acc: 0.7347\n",
      "Epoch 18/100\n",
      "3s - loss: 0.7721 - acc: 0.7347\n",
      "Epoch 19/100\n",
      "3s - loss: 0.7718 - acc: 0.7347\n",
      "Epoch 20/100\n",
      "3s - loss: 0.7697 - acc: 0.7347\n",
      "Epoch 21/100\n",
      "3s - loss: 0.7704 - acc: 0.7347\n",
      "Epoch 22/100\n",
      "3s - loss: 0.7686 - acc: 0.7347\n",
      "Epoch 23/100\n",
      "4s - loss: 0.7680 - acc: 0.7347\n",
      "Epoch 24/100\n",
      "3s - loss: 0.7683 - acc: 0.7348\n",
      "Epoch 25/100\n",
      "3s - loss: 0.7679 - acc: 0.7347\n",
      "Epoch 26/100\n",
      "3s - loss: 0.7663 - acc: 0.7349\n",
      "Epoch 27/100\n",
      "3s - loss: 0.7659 - acc: 0.7347\n",
      "Epoch 28/100\n",
      "4s - loss: 0.7652 - acc: 0.7347\n",
      "Epoch 29/100\n",
      "4s - loss: 0.7647 - acc: 0.7347\n",
      "Epoch 30/100\n",
      "4s - loss: 0.7642 - acc: 0.7348\n",
      "Epoch 31/100\n",
      "3s - loss: 0.7637 - acc: 0.7348\n",
      "Epoch 32/100\n",
      "3s - loss: 0.7618 - acc: 0.7348\n",
      "Epoch 33/100\n",
      "3s - loss: 0.7616 - acc: 0.7348\n",
      "Epoch 34/100\n",
      "3s - loss: 0.7596 - acc: 0.7348\n",
      "Epoch 35/100\n",
      "3s - loss: 0.7575 - acc: 0.7349\n",
      "Epoch 36/100\n",
      "3s - loss: 0.7566 - acc: 0.7351\n",
      "Epoch 37/100\n",
      "3s - loss: 0.7560 - acc: 0.7355\n",
      "Epoch 38/100\n",
      "3s - loss: 0.7546 - acc: 0.7362\n",
      "Epoch 39/100\n",
      "3s - loss: 0.7541 - acc: 0.7359\n",
      "Epoch 40/100\n",
      "3s - loss: 0.7525 - acc: 0.7364\n",
      "Epoch 41/100\n",
      "3s - loss: 0.7508 - acc: 0.7368\n",
      "Epoch 42/100\n",
      "3s - loss: 0.7500 - acc: 0.7369\n",
      "Epoch 43/100\n",
      "3s - loss: 0.7495 - acc: 0.7376\n",
      "Epoch 44/100\n",
      "4s - loss: 0.7487 - acc: 0.7370\n",
      "Epoch 45/100\n",
      "4s - loss: 0.7479 - acc: 0.7379\n",
      "Epoch 46/100\n",
      "3s - loss: 0.7457 - acc: 0.7380\n",
      "Epoch 47/100\n",
      "3s - loss: 0.7447 - acc: 0.7386\n",
      "Epoch 48/100\n",
      "3s - loss: 0.7436 - acc: 0.7381\n",
      "Epoch 49/100\n",
      "3s - loss: 0.7435 - acc: 0.7383\n",
      "Epoch 50/100\n",
      "3s - loss: 0.7429 - acc: 0.7380\n",
      "Epoch 51/100\n",
      "3s - loss: 0.7417 - acc: 0.7393\n",
      "Epoch 52/100\n",
      "3s - loss: 0.7399 - acc: 0.7389\n",
      "Epoch 53/100\n",
      "3s - loss: 0.7398 - acc: 0.7393\n",
      "Epoch 54/100\n",
      "3s - loss: 0.7377 - acc: 0.7390\n",
      "Epoch 55/100\n",
      "3s - loss: 0.7386 - acc: 0.7386\n",
      "Epoch 56/100\n",
      "3s - loss: 0.7374 - acc: 0.7392\n",
      "Epoch 57/100\n",
      "3s - loss: 0.7381 - acc: 0.7394\n",
      "Epoch 58/100\n",
      "3s - loss: 0.7352 - acc: 0.7394\n",
      "Epoch 59/100\n",
      "3s - loss: 0.7358 - acc: 0.7392\n",
      "Epoch 60/100\n",
      "3s - loss: 0.7343 - acc: 0.7393\n",
      "Epoch 61/100\n",
      "3s - loss: 0.7346 - acc: 0.7390\n",
      "Epoch 62/100\n",
      "3s - loss: 0.7345 - acc: 0.7390\n",
      "Epoch 63/100\n",
      "3s - loss: 0.7340 - acc: 0.7394\n",
      "Epoch 64/100\n",
      "3s - loss: 0.7326 - acc: 0.7396\n",
      "Epoch 65/100\n",
      "3s - loss: 0.7310 - acc: 0.7399\n",
      "Epoch 66/100\n",
      "3s - loss: 0.7311 - acc: 0.7397\n",
      "Epoch 67/100\n",
      "3s - loss: 0.7306 - acc: 0.7403\n",
      "Epoch 68/100\n",
      "3s - loss: 0.7303 - acc: 0.7403\n",
      "Epoch 69/100\n",
      "3s - loss: 0.7306 - acc: 0.7401\n",
      "Epoch 70/100\n",
      "3s - loss: 0.7291 - acc: 0.7408\n",
      "Epoch 71/100\n",
      "4s - loss: 0.7276 - acc: 0.7404\n",
      "Epoch 72/100\n",
      "3s - loss: 0.7283 - acc: 0.7405\n",
      "Epoch 73/100\n",
      "3s - loss: 0.7290 - acc: 0.7411\n",
      "Epoch 74/100\n",
      "3s - loss: 0.7257 - acc: 0.7414\n",
      "Epoch 75/100\n",
      "3s - loss: 0.7270 - acc: 0.7412\n",
      "Epoch 76/100\n",
      "4s - loss: 0.7267 - acc: 0.7408\n",
      "Epoch 77/100\n",
      "3s - loss: 0.7261 - acc: 0.7407\n",
      "Epoch 78/100\n",
      "5s - loss: 0.7247 - acc: 0.7415\n",
      "Epoch 79/100\n",
      "4s - loss: 0.7253 - acc: 0.7408\n",
      "Epoch 80/100\n",
      "4s - loss: 0.7246 - acc: 0.7408\n",
      "Epoch 81/100\n",
      "4s - loss: 0.7226 - acc: 0.7428\n",
      "Epoch 82/100\n",
      "3s - loss: 0.7225 - acc: 0.7420\n",
      "Epoch 83/100\n",
      "3s - loss: 0.7228 - acc: 0.7421\n",
      "Epoch 84/100\n",
      "3s - loss: 0.7213 - acc: 0.7423\n",
      "Epoch 85/100\n",
      "3s - loss: 0.7209 - acc: 0.7422\n",
      "Epoch 86/100\n",
      "3s - loss: 0.7218 - acc: 0.7421\n",
      "Epoch 87/100\n",
      "3s - loss: 0.7215 - acc: 0.7420\n",
      "Epoch 88/100\n",
      "3s - loss: 0.7199 - acc: 0.7426\n",
      "Epoch 89/100\n",
      "3s - loss: 0.7193 - acc: 0.7426\n",
      "Epoch 90/100\n",
      "3s - loss: 0.7167 - acc: 0.7433\n",
      "Epoch 91/100\n",
      "3s - loss: 0.7192 - acc: 0.7422\n",
      "Epoch 92/100\n",
      "3s - loss: 0.7179 - acc: 0.7425\n",
      "Epoch 93/100\n",
      "3s - loss: 0.7177 - acc: 0.7426\n",
      "Epoch 94/100\n",
      "3s - loss: 0.7173 - acc: 0.7432\n",
      "Epoch 95/100\n",
      "3s - loss: 0.7148 - acc: 0.7439\n",
      "Epoch 96/100\n",
      "3s - loss: 0.7157 - acc: 0.7433\n",
      "Epoch 97/100\n",
      "3s - loss: 0.7141 - acc: 0.7443\n",
      "Epoch 98/100\n",
      "3s - loss: 0.7161 - acc: 0.7441\n",
      "Epoch 99/100\n",
      "3s - loss: 0.7153 - acc: 0.7433\n",
      "Epoch 100/100\n"
     ]
    },
    {
     "name": "stderr",
     "output_type": "stream",
     "text": [
      "\r",
      "100%|██████████| 5/5 [20:11<00:00, 246.42s/it]"
     ]
    },
    {
     "name": "stdout",
     "output_type": "stream",
     "text": [
      "3s - loss: 0.7138 - acc: 0.7446\n"
     ]
    },
    {
     "name": "stderr",
     "output_type": "stream",
     "text": [
      "\n"
     ]
    }
   ],
   "source": [
    "slaves = []\n",
    "for slv in tqdm(slave_classifiers):\n",
    "    print(\"Training classifier\" + str(type(slv)))\n",
    "    cls = slv(d,all_folds)\n",
    "    cls.preload_features(d.stances)\n",
    "    cls.train(all_folds)\n",
    "    slaves.append(cls)"
   ]
  },
  {
   "cell_type": "code",
   "execution_count": 9,
   "metadata": {
    "collapsed": false
   },
   "outputs": [
    {
     "name": "stderr",
     "output_type": "stream",
     "text": [
      "100%|██████████| 5/5 [00:03<00:00,  1.39it/s]\n",
      " 20%|██        | 1/5 [00:00<00:01,  2.12it/s]\n"
     ]
    },
    {
     "ename": "ValueError",
     "evalue": "Input contains NaN, infinity or a value too large for dtype('float64').",
     "output_type": "error",
     "traceback": [
      "\u001b[0;31m---------------------------------------------------------------------------\u001b[0m",
      "\u001b[0;31mValueError\u001b[0m                                Traceback (most recent call last)",
      "\u001b[0;32m<ipython-input-9-fd4492ec740b>\u001b[0m in \u001b[0;36m<module>\u001b[0;34m()\u001b[0m\n\u001b[1;32m      5\u001b[0m \u001b[0mslv_predicted_test\u001b[0m \u001b[0;34m=\u001b[0m \u001b[0;34m[\u001b[0m\u001b[0;34m]\u001b[0m\u001b[0;34m\u001b[0m\u001b[0m\n\u001b[1;32m      6\u001b[0m \u001b[0;32mfor\u001b[0m \u001b[0mslave\u001b[0m \u001b[0;32min\u001b[0m \u001b[0mtqdm\u001b[0m\u001b[0;34m(\u001b[0m\u001b[0mslaves\u001b[0m\u001b[0;34m)\u001b[0m\u001b[0;34m:\u001b[0m\u001b[0;34m\u001b[0m\u001b[0m\n\u001b[0;32m----> 7\u001b[0;31m     \u001b[0mslv_predicted_test\u001b[0m\u001b[0;34m.\u001b[0m\u001b[0mappend\u001b[0m\u001b[0;34m(\u001b[0m\u001b[0;34m[\u001b[0m\u001b[0mLABELS\u001b[0m\u001b[0;34m.\u001b[0m\u001b[0mindex\u001b[0m\u001b[0;34m(\u001b[0m\u001b[0mp\u001b[0m\u001b[0;34m)\u001b[0m \u001b[0;32mfor\u001b[0m \u001b[0mp\u001b[0m \u001b[0;32min\u001b[0m \u001b[0mslave\u001b[0m\u001b[0;34m.\u001b[0m\u001b[0mpredict\u001b[0m\u001b[0;34m(\u001b[0m\u001b[0mtest_dataset\u001b[0m\u001b[0;34m.\u001b[0m\u001b[0mstances\u001b[0m\u001b[0;34m)\u001b[0m\u001b[0;34m]\u001b[0m\u001b[0;34m)\u001b[0m\u001b[0;34m\u001b[0m\u001b[0m\n\u001b[0m",
      "\u001b[0;32m/Users/james/Dropbox/phd/Year 1/projects/9 FNC/fnc-1-ensemble2/ensemble/XiaoxuanWang.py\u001b[0m in \u001b[0;36mpredict\u001b[0;34m(self, data)\u001b[0m\n\u001b[1;32m    354\u001b[0m     \u001b[0;32mdef\u001b[0m \u001b[0mpredict\u001b[0m\u001b[0;34m(\u001b[0m\u001b[0mself\u001b[0m\u001b[0;34m,\u001b[0m\u001b[0mdata\u001b[0m\u001b[0;34m)\u001b[0m\u001b[0;34m:\u001b[0m\u001b[0;34m\u001b[0m\u001b[0m\n\u001b[1;32m    355\u001b[0m         \u001b[0mXs\u001b[0m\u001b[0;34m,\u001b[0m\u001b[0mys\u001b[0m \u001b[0;34m=\u001b[0m \u001b[0mself\u001b[0m\u001b[0;34m.\u001b[0m\u001b[0mxys\u001b[0m\u001b[0;34m(\u001b[0m\u001b[0mdata\u001b[0m\u001b[0;34m)\u001b[0m\u001b[0;34m\u001b[0m\u001b[0m\n\u001b[0;32m--> 356\u001b[0;31m         \u001b[0mprd\u001b[0m \u001b[0;34m=\u001b[0m \u001b[0mself\u001b[0m\u001b[0;34m.\u001b[0m\u001b[0mmlpc\u001b[0m\u001b[0;34m.\u001b[0m\u001b[0mpredict\u001b[0m\u001b[0;34m(\u001b[0m\u001b[0mXs\u001b[0m\u001b[0;34m)\u001b[0m\u001b[0;34m\u001b[0m\u001b[0m\n\u001b[0m\u001b[1;32m    357\u001b[0m         \u001b[0;32mreturn\u001b[0m \u001b[0mprd\u001b[0m\u001b[0;34m\u001b[0m\u001b[0m\n\u001b[1;32m    358\u001b[0m \u001b[0;34m\u001b[0m\u001b[0m\n",
      "\u001b[0;32m/Users/james/anaconda/lib/python3.5/site-packages/sklearn/neural_network/multilayer_perceptron.py\u001b[0m in \u001b[0;36mpredict\u001b[0;34m(self, X)\u001b[0m\n\u001b[1;32m    932\u001b[0m         \"\"\"\n\u001b[1;32m    933\u001b[0m         \u001b[0mcheck_is_fitted\u001b[0m\u001b[0;34m(\u001b[0m\u001b[0mself\u001b[0m\u001b[0;34m,\u001b[0m \u001b[0;34m\"coefs_\"\u001b[0m\u001b[0;34m)\u001b[0m\u001b[0;34m\u001b[0m\u001b[0m\n\u001b[0;32m--> 934\u001b[0;31m         \u001b[0my_pred\u001b[0m \u001b[0;34m=\u001b[0m \u001b[0mself\u001b[0m\u001b[0;34m.\u001b[0m\u001b[0m_predict\u001b[0m\u001b[0;34m(\u001b[0m\u001b[0mX\u001b[0m\u001b[0;34m)\u001b[0m\u001b[0;34m\u001b[0m\u001b[0m\n\u001b[0m\u001b[1;32m    935\u001b[0m \u001b[0;34m\u001b[0m\u001b[0m\n\u001b[1;32m    936\u001b[0m         \u001b[0;32mif\u001b[0m \u001b[0mself\u001b[0m\u001b[0;34m.\u001b[0m\u001b[0mn_outputs_\u001b[0m \u001b[0;34m==\u001b[0m \u001b[0;36m1\u001b[0m\u001b[0;34m:\u001b[0m\u001b[0;34m\u001b[0m\u001b[0m\n",
      "\u001b[0;32m/Users/james/anaconda/lib/python3.5/site-packages/sklearn/neural_network/multilayer_perceptron.py\u001b[0m in \u001b[0;36m_predict\u001b[0;34m(self, X)\u001b[0m\n\u001b[1;32m    656\u001b[0m             \u001b[0mThe\u001b[0m \u001b[0mdecision\u001b[0m \u001b[0mfunction\u001b[0m \u001b[0mof\u001b[0m \u001b[0mthe\u001b[0m \u001b[0msamples\u001b[0m \u001b[0;32mfor\u001b[0m \u001b[0meach\u001b[0m \u001b[0;32mclass\u001b[0m \u001b[0;32min\u001b[0m \u001b[0mthe\u001b[0m \u001b[0mmodel\u001b[0m\u001b[0;34m.\u001b[0m\u001b[0;34m\u001b[0m\u001b[0m\n\u001b[1;32m    657\u001b[0m         \"\"\"\n\u001b[0;32m--> 658\u001b[0;31m         \u001b[0mX\u001b[0m \u001b[0;34m=\u001b[0m \u001b[0mcheck_array\u001b[0m\u001b[0;34m(\u001b[0m\u001b[0mX\u001b[0m\u001b[0;34m,\u001b[0m \u001b[0maccept_sparse\u001b[0m\u001b[0;34m=\u001b[0m\u001b[0;34m[\u001b[0m\u001b[0;34m'csr'\u001b[0m\u001b[0;34m,\u001b[0m \u001b[0;34m'csc'\u001b[0m\u001b[0;34m,\u001b[0m \u001b[0;34m'coo'\u001b[0m\u001b[0;34m]\u001b[0m\u001b[0;34m)\u001b[0m\u001b[0;34m\u001b[0m\u001b[0m\n\u001b[0m\u001b[1;32m    659\u001b[0m \u001b[0;34m\u001b[0m\u001b[0m\n\u001b[1;32m    660\u001b[0m         \u001b[0;31m# Make sure self.hidden_layer_sizes is a list\u001b[0m\u001b[0;34m\u001b[0m\u001b[0;34m\u001b[0m\u001b[0m\n",
      "\u001b[0;32m/Users/james/anaconda/lib/python3.5/site-packages/sklearn/utils/validation.py\u001b[0m in \u001b[0;36mcheck_array\u001b[0;34m(array, accept_sparse, dtype, order, copy, force_all_finite, ensure_2d, allow_nd, ensure_min_samples, ensure_min_features, warn_on_dtype, estimator)\u001b[0m\n\u001b[1;32m    405\u001b[0m                              % (array.ndim, estimator_name))\n\u001b[1;32m    406\u001b[0m         \u001b[0;32mif\u001b[0m \u001b[0mforce_all_finite\u001b[0m\u001b[0;34m:\u001b[0m\u001b[0;34m\u001b[0m\u001b[0m\n\u001b[0;32m--> 407\u001b[0;31m             \u001b[0m_assert_all_finite\u001b[0m\u001b[0;34m(\u001b[0m\u001b[0marray\u001b[0m\u001b[0;34m)\u001b[0m\u001b[0;34m\u001b[0m\u001b[0m\n\u001b[0m\u001b[1;32m    408\u001b[0m \u001b[0;34m\u001b[0m\u001b[0m\n\u001b[1;32m    409\u001b[0m     \u001b[0mshape_repr\u001b[0m \u001b[0;34m=\u001b[0m \u001b[0m_shape_repr\u001b[0m\u001b[0;34m(\u001b[0m\u001b[0marray\u001b[0m\u001b[0;34m.\u001b[0m\u001b[0mshape\u001b[0m\u001b[0;34m)\u001b[0m\u001b[0;34m\u001b[0m\u001b[0m\n",
      "\u001b[0;32m/Users/james/anaconda/lib/python3.5/site-packages/sklearn/utils/validation.py\u001b[0m in \u001b[0;36m_assert_all_finite\u001b[0;34m(X)\u001b[0m\n\u001b[1;32m     56\u001b[0m             and not np.isfinite(X).all()):\n\u001b[1;32m     57\u001b[0m         raise ValueError(\"Input contains NaN, infinity\"\n\u001b[0;32m---> 58\u001b[0;31m                          \" or a value too large for %r.\" % X.dtype)\n\u001b[0m\u001b[1;32m     59\u001b[0m \u001b[0;34m\u001b[0m\u001b[0m\n\u001b[1;32m     60\u001b[0m \u001b[0;34m\u001b[0m\u001b[0m\n",
      "\u001b[0;31mValueError\u001b[0m: Input contains NaN, infinity or a value too large for dtype('float64')."
     ]
    }
   ],
   "source": [
    "slv_predicted_holdout = []\n",
    "for slave in tqdm(slaves):\n",
    "    slv_predicted_holdout.append([LABELS.index(p) for p in slave.predict(hold_out_stances)])\n",
    "\n",
    "slv_predicted_test = []\n",
    "\n",
    "\n",
    "\n",
    "for slave in tqdm(slaves):\n",
    "    slv_predicted_test.append([LABELS.index(p) for p in slave.predict(test_dataset.stances)])\n"
   ]
  },
  {
   "cell_type": "code",
   "execution_count": 17,
   "metadata": {
    "collapsed": false
   },
   "outputs": [
    {
     "name": "stderr",
     "output_type": "stream",
     "text": [
      "100%|██████████| 4/4 [00:03<00:00,  1.40it/s]\n",
      "100%|██████████| 4/4 [00:07<00:00,  1.73s/it]\n"
     ]
    }
   ],
   "source": [
    "tmp_slaves = [x for i,x in enumerate(slaves) if i!=1] \n",
    "\n",
    "slv_predicted_holdout = []\n",
    "for slave in tqdm(tmp_slaves):\n",
    "    slv_predicted_holdout.append([LABELS.index(p) for p in slave.predict(hold_out_stances)])\n",
    "\n",
    "slv_predicted_test = []\n",
    "\n",
    "\n",
    "\n",
    "for slave in tqdm(tmp_slaves):\n",
    "    slv_predicted_test.append([LABELS.index(p) for p in slave.predict(test_dataset.stances)])\n"
   ]
  },
  {
   "cell_type": "code",
   "execution_count": 24,
   "metadata": {
    "collapsed": false
   },
   "outputs": [
    {
     "name": "stdout",
     "output_type": "stream",
     "text": [
      "[{'Stance': 'unrelated', 'Stance ID': 2, 'Headline': \"Christian Bale passes on role of Steve Jobs, actor reportedly felt he wasn't right for part\", 'Body ID': 137}, 3, 3, 3, 0]\n",
      "48\n"
     ]
    }
   ],
   "source": [
    "mdata = []\n",
    "for j in master_train[0]:\n",
    "    mdata.append([x for i,x in enumerate(j) if i!=2])\n",
    "print(mdata[0])   \n",
    "\n",
    "master = Master(d,mdata)\n",
    "master.preload_features(d.stances)\n",
    "master.fit(mdata)"
   ]
  },
  {
   "cell_type": "code",
   "execution_count": 39,
   "metadata": {
    "collapsed": false
   },
   "outputs": [],
   "source": [
    "for i,stance in enumerate(test_dataset.stances):\n",
    "    stance['Stance ID'] = len(all_folds)+len(hold_out_stances)+i \n"
   ]
  },
  {
   "cell_type": "code",
   "execution_count": 40,
   "metadata": {
    "collapsed": false
   },
   "outputs": [],
   "source": [
    "cpstances = list(test_dataset.stances)\n",
    "\n",
    "for label,stance in zip(final_predictions,cpstances):\n",
    "    stance['Stance'] = label\n",
    "    del stance['Stance ID']\n",
    "\n",
    "f = open('submission.csv', 'w')\n",
    "f.write(\"Headline,Body ID,Stance\")\n",
    "w = csv.DictWriter(f, [\"Headline\",\"Body ID\", \"Stance\"])\n",
    "w.writerows(test_dataset.stances)\n",
    "f.close()"
   ]
  }
 ],
 "metadata": {
  "anaconda-cloud": {},
  "kernelspec": {
   "display_name": "Python [conda root]",
   "language": "python",
   "name": "conda-root-py"
  },
  "language_info": {
   "codemirror_mode": {
    "name": "ipython",
    "version": 3
   },
   "file_extension": ".py",
   "mimetype": "text/x-python",
   "name": "python",
   "nbconvert_exporter": "python",
   "pygments_lexer": "ipython3",
   "version": "3.5.2"
  }
 },
 "nbformat": 4,
 "nbformat_minor": 1
}
