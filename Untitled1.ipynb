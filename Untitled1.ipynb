{
 "cells": [
  {
   "cell_type": "code",
   "execution_count": 1,
   "metadata": {
    "collapsed": false
   },
   "outputs": [
    {
     "name": "stderr",
     "output_type": "stream",
     "text": [
      "Using TensorFlow backend.\n"
     ]
    }
   ],
   "source": [
    "import numpy as np\n",
    "np.random.seed(1337) \n",
    "\n",
    "import random\n",
    "random.seed(1337)\n",
    "\n",
    "import csv\n",
    "import sys\n",
    "\n",
    "from scipy import spatial\n",
    "\n",
    "from sklearn.ensemble import GradientBoostingClassifier\n",
    "from sklearn.feature_extraction.text import TfidfVectorizer\n",
    "from tqdm import tqdm_notebook as tqdm\n",
    "\n",
    "from ensemble.GiorgosMyrianthous import GiorgosMyrianthous\n",
    "from ensemble.JiashuPu import JiashuPu\n",
    "from ensemble.FNCBaseLine import FNCBaseLine\n",
    "from ensemble.Master import Master\n",
    "from ensemble.MingjieChen import MingjieChen\n",
    "from ensemble.XiaoxuanWang import XiaoxuanWang\n",
    "from feature_engineering import refuting_features, polarity_features, hand_features, gen_or_load_feats\n",
    "from feature_engineering import word_overlap_features\n",
    "from upperbound import compute_ub\n",
    "from utils.dataset import DataSet\n",
    "from utils.generate_test_splits import kfold_split, get_stances_for_folds\n",
    "from utils.score import report_score, LABELS, score_submission\n",
    "import pickle\n"
   ]
  },
  {
   "cell_type": "code",
   "execution_count": 2,
   "metadata": {
    "collapsed": false
   },
   "outputs": [
    {
     "name": "stdout",
     "output_type": "stream",
     "text": [
      "Reading dataset\n",
      "Total stances: 49972\n",
      "Total bodies: 1683\n",
      "Reading dataset\n",
      "Total stances: 25413\n",
      "Total bodies: 904\n"
     ]
    }
   ],
   "source": [
    "d = DataSet()\n",
    "\n",
    "folds,hold_out = kfold_split(d,n_folds=2)\n",
    "fold_stances, hold_out_stances = get_stances_for_folds(d,folds,hold_out)\n",
    "\n",
    "test_dataset = DataSet(\"competition_test\")\n",
    "d.articles.update(test_dataset.articles)\n",
    "\n",
    "for stance in test_dataset.stances:\n",
    "    stance['Stance ID'] += len(d.stances)\n",
    "\n",
    "\n",
    "test_stances = test_dataset.stances\n",
    "d.stances.extend(test_stances)"
   ]
  },
  {
   "cell_type": "code",
   "execution_count": 3,
   "metadata": {
    "collapsed": true
   },
   "outputs": [],
   "source": [
    "master_classifier = None\n"
   ]
  },
  {
   "cell_type": "code",
   "execution_count": 4,
   "metadata": {
    "collapsed": false
   },
   "outputs": [],
   "source": [
    "ids = list(range(len(folds)))\n",
    "all_folds = np.hstack(tuple([fold_stances[i] for i in ids]))\n",
    "\n",
    "\n",
    "\n",
    "train = dict()\n",
    "test = dict()\n",
    "    \n",
    "for fold in fold_stances:\n",
    "    ids = list(range(len(folds)))\n",
    "    del ids[fold]\n",
    "\n",
    "    train[fold] = np.hstack(tuple([fold_stances[i] for i in ids]))\n",
    "    test[fold] = fold_stances[fold]\n",
    "\n",
    "\n",
    "slave_classifiers = [XiaoxuanWang,JiashuPu,GiorgosMyrianthous,MingjieChen,FNCBaseLine]\n",
    "\n",
    "slv_predicted = dict()\n",
    "master_train = dict()"
   ]
  },
  {
   "cell_type": "code",
   "execution_count": 5,
   "metadata": {
    "collapsed": false
   },
   "outputs": [
    {
     "name": "stdout",
     "output_type": "stream",
     "text": [
      "40350\n",
      "9622\n"
     ]
    }
   ],
   "source": [
    "print(len(all_folds))\n",
    "print(len(hold_out_stances))"
   ]
  },
  {
   "cell_type": "code",
   "execution_count": null,
   "metadata": {
    "collapsed": true
   },
   "outputs": [],
   "source": [
    "slv_predicted = dict()\n",
    "master_train = dict()"
   ]
  },
  {
   "cell_type": "code",
   "execution_count": null,
   "metadata": {
    "collapsed": false,
    "scrolled": false
   },
   "outputs": [
    {
     "name": "stdout",
     "output_type": "stream",
     "text": [
      "Create classifier<class 'ensemble.XiaoxuanWang.XiaoxuanWang'>\n"
     ]
    },
    {
     "name": "stderr",
     "output_type": "stream",
     "text": [
      "46298it [00:27, 1463.80it/s]"
     ]
    }
   ],
   "source": [
    "for fold in fold_stances:\n",
    "    slv_predicted[fold] = []\n",
    "    master_train[fold] = []\n",
    "    for slv in tqdm(slave_classifiers):\n",
    "        print(\"Create classifier\" + str(slv))\n",
    "        cls = slv(d,all_folds)\n",
    "\n",
    "        print(\"Preload training data\" + str(type(cls)))\n",
    "        cls.preload_features(d.stances)\n",
    "\n",
    "        print(\"Train on fold \" + str(fold) + \" - \" + str(type(cls)))\n",
    "        cls.train(train[fold])\n",
    "\n",
    "        slv_predicted[fold].append([LABELS.index(p) for p in cls.predict(test[fold])])\n",
    "        del cls\n",
    "\n",
    "    master_train[fold].extend(zip(test[fold], *slv_predicted[fold]))"
   ]
  },
  {
   "cell_type": "code",
   "execution_count": null,
   "metadata": {
    "collapsed": false
   },
   "outputs": [],
   "source": [
    "slaves = []\n",
    "for slv in tqdm(slave_classifiers):\n",
    "    print(\"Training classifier\" + str(slv))\n",
    "    cls = slv(d,all_folds)\n",
    "    cls.preload_features(d.stances)\n",
    "    cls.train(all_folds)\n",
    "    slaves.append(cls)"
   ]
  },
  {
   "cell_type": "code",
   "execution_count": null,
   "metadata": {
    "collapsed": false
   },
   "outputs": [],
   "source": [
    "def predictxw(data):\n",
    "    Xs,ys = slaves[1].xys(data)\n",
    "    prd = []\n",
    "    for x in Xs:\n",
    "        if np.all(np.isfinite(x)):\n",
    "            prd.append(slaves[1].mlpc.predict([x]))\n",
    "        else:\n",
    "            prd.append('unrelated')\n",
    "    return prd\n",
    "\n",
    "#slaves[1].predict = predictxw\n",
    "\n",
    "\n",
    "slv_predicted_holdout = []\n",
    "for slave in tqdm(slaves):\n",
    "    slv_predicted_holdout.append([LABELS.index(p) for p in slave.predict(hold_out_stances)])\n",
    "\n",
    "slv_predicted_test = []\n",
    "for slave in tqdm(slaves):\n",
    "    slv_predicted_test.append([LABELS.index(p) for p in slave.predict(test_dataset.stances)])"
   ]
  },
  {
   "cell_type": "code",
   "execution_count": null,
   "metadata": {
    "collapsed": false,
    "scrolled": true
   },
   "outputs": [],
   "source": [
    "\n",
    "#fold = 1\n",
    "#mdata = []\n",
    "\n",
    "#mdata.extend(master_train[fold])\n",
    "\n",
    "\n",
    "#master = Master(d,mdata)\n",
    "#master.preload_features(d.stances)\n",
    "#master.fit(mdata)\n",
    "\n",
    "#ho_predictions_predictions = master.predict(zip(hold_out_stances,*slv_predicted_holdout))\n",
    "#report_score(master.xys(hold_out_stances)[1],ho_predictions_predictions)\n"
   ]
  },
  {
   "cell_type": "code",
   "execution_count": null,
   "metadata": {
    "collapsed": false
   },
   "outputs": [],
   "source": [
    "mdata = []\n",
    "for fold in fold_stances:\n",
    "    mdata.extend(master_train[fold])\n",
    "\n",
    "\n",
    "master = Master(d,mdata)\n",
    "master.preload_features(d.stances)\n",
    "master.fit(mdata)\n",
    "\n",
    "ho_predictions_predictions = master.predict(zip(hold_out_stances,*slv_predicted_holdout))\n",
    "report_score(master.xys(hold_out_stances)[1],ho_predictions_predictions)\n"
   ]
  },
  {
   "cell_type": "code",
   "execution_count": null,
   "metadata": {
    "collapsed": false
   },
   "outputs": [],
   "source": [
    "final_predictions = master.predict(zip(test_dataset.stances,*slv_predicted_test))"
   ]
  },
  {
   "cell_type": "code",
   "execution_count": null,
   "metadata": {
    "collapsed": false
   },
   "outputs": [],
   "source": [
    "#tmp_slaves = [x for i,x in enumerate(slaves) if i!=1] \n",
    "\n",
    "#slv_predicted_holdout = []\n",
    "#for slave in tqdm(tmp_slaves):\n",
    "#    slv_predicted_holdout.append([LABELS.index(p) for p in slave.predict(hold_out_stances)])\n",
    "\n",
    "#slv_predicted_test = []\n",
    "#for slave in tqdm(tmp_slaves):\n",
    "#    slv_predicted_test.append([LABELS.index(p) for p in slave.predict(test_dataset.stances)])\n",
    "\n",
    "mdata = []\n",
    "fold = 1\n",
    "mdata.extend(master_train[fold])\n",
    "master = Master(d,mdata)\n",
    "master.preload_features(d.stances)\n",
    "master.fit(mdata)"
   ]
  },
  {
   "cell_type": "code",
   "execution_count": null,
   "metadata": {
    "collapsed": false
   },
   "outputs": [],
   "source": [
    "mdata = []\n",
    "for fold in fold_stances:\n",
    "    mdata.extend(master_train[fold])\n",
    "master = Master(d,mdata)\n",
    "master.preload_features(d.stances)\n",
    "master.fit(mdata)"
   ]
  },
  {
   "cell_type": "code",
   "execution_count": null,
   "metadata": {
    "collapsed": false
   },
   "outputs": [],
   "source": [
    "len(slv_predicted_holdout)"
   ]
  },
  {
   "cell_type": "code",
   "execution_count": null,
   "metadata": {
    "collapsed": false
   },
   "outputs": [],
   "source": [
    "for i,stance in enumerate(test_dataset.stances):\n",
    "    stance['Stance ID'] = len(all_folds)+len(hold_out_stances)+i \n"
   ]
  },
  {
   "cell_type": "code",
   "execution_count": null,
   "metadata": {
    "collapsed": false
   },
   "outputs": [],
   "source": [
    "cpstances = list(test_dataset.stances)\n",
    "\n",
    "for label,stance in zip(final_predictions,cpstances):\n",
    "    stance['Stance'] = label\n",
    "    del stance['Stance ID']\n",
    "\n",
    "f = open('submission.csv', 'w')\n",
    "f.write(\"Headline,Body ID,Stance\")\n",
    "w = csv.DictWriter(f, [\"Headline\",\"Body ID\", \"Stance\"])\n",
    "w.writerows(test_dataset.stances)\n",
    "f.close()"
   ]
  },
  {
   "cell_type": "code",
   "execution_count": null,
   "metadata": {
    "collapsed": false
   },
   "outputs": [],
   "source": [
    "import pandas as pd\n",
    "\n",
    "# get your prediction done\n",
    "# Say prediction_results is an array of label strings \n",
    "\n",
    "df = pd.read_csv('test_stances_unlabeled.csv')\n",
    "df['Stance'] = final_predictions\n",
    "df.to_csv('submission.csv', index=False)"
   ]
  },
  {
   "cell_type": "code",
   "execution_count": null,
   "metadata": {
    "collapsed": false
   },
   "outputs": [],
   "source": [
    "print(1)"
   ]
  },
  {
   "cell_type": "code",
   "execution_count": null,
   "metadata": {
    "collapsed": false
   },
   "outputs": [],
   "source": [
    "master_train[0][0]\n",
    "print(master_train[0][1])\n",
    "list(zip(hold_out_stances,*slv_predicted_holdout))[1]"
   ]
  },
  {
   "cell_type": "code",
   "execution_count": null,
   "metadata": {
    "collapsed": false
   },
   "outputs": [],
   "source": [
    "for sprd in slv_predicted_holdout:\n",
    "    report_score(master.xys(hold_out_stances)[1],[LABELS[i] for i in sprd])"
   ]
  },
  {
   "cell_type": "code",
   "execution_count": null,
   "metadata": {
    "collapsed": false
   },
   "outputs": [],
   "source": [
    "def compute_ub2(slaves,stances):\n",
    "    actual = []\n",
    "    for stance in stances:\n",
    "        actual.append(LABELS.index(stance['Stance']))\n",
    "\n",
    "    predicted = []\n",
    "    for classifier in slaves:\n",
    "        pred = classifier.predict(stances)\n",
    "        pred = [LABELS.index(p) for p in pred]\n",
    "        predicted.append(pred)\n",
    "\n",
    "    oracle = 0\n",
    "    maxscore=0\n",
    "    predicted = list(zip(*predicted))\n",
    "    for i,cls in enumerate(actual):\n",
    "        \n",
    "        if cls==3:\n",
    "            maxscore += 0.25\n",
    "        else:\n",
    "            maxscore += 1\n",
    "            \n",
    "        #0.25 points if system correctly classifies rel/unrel\n",
    "        if cls == 3:\n",
    "            if cls in predicted[i]:\n",
    "                oracle += 0.25\n",
    "        elif cls != 3:\n",
    "            if cls in predicted[i]:\n",
    "                oracle += 1\n",
    "            elif 0 in predicted[i] or 1 in predicted[i] or 2 in predicted[i]:\n",
    "                oracle += 0.25\n",
    "                \n",
    "        \n",
    "    print(oracle)\n",
    "    print(maxscore)\n",
    "\n",
    "    print(oracle/maxscore)\n",
    "\n",
    "compute_ub2(slaves, hold_out_stances)"
   ]
  }
 ],
 "metadata": {
  "anaconda-cloud": {},
  "kernelspec": {
   "display_name": "Python [conda root]",
   "language": "python",
   "name": "conda-root-py"
  },
  "language_info": {
   "codemirror_mode": {
    "name": "ipython",
    "version": 3
   },
   "file_extension": ".py",
   "mimetype": "text/x-python",
   "name": "python",
   "nbconvert_exporter": "python",
   "pygments_lexer": "ipython3",
   "version": "3.5.2"
  },
  "widgets": {
   "state": {
    "b8f05fd42b6e4e2aa23afd5599e15ec4": {
     "views": [
      {
       "cell_index": 6
      }
     ]
    }
   },
   "version": "1.2.0"
  }
 },
 "nbformat": 4,
 "nbformat_minor": 1
}
